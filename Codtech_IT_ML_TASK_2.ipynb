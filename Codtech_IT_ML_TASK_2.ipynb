{
 "cells": [
  {
   "cell_type": "markdown",
   "metadata": {
    "id": "8S7ZH-nS51fY"
   },
   "source": [
    "#Importing Libraries"
   ]
  },
  {
   "cell_type": "code",
   "execution_count": null,
   "metadata": {
    "id": "GnXievNUfbJp"
   },
   "outputs": [],
   "source": [
    "import pandas as pd\n",
    "import numpy as np\n",
    "\n",
    "from sklearn.model_selection import train_test_split\n",
    "from sklearn.linear_model import LogisticRegression\n",
    "from sklearn.metrics import accuracy_score, roc_auc_score\n",
    "\n",
    "from sklearn.preprocessing import StandardScaler"
   ]
  },
  {
   "cell_type": "markdown",
   "metadata": {
    "id": "DBKv5B_Nfl5D"
   },
   "source": [
    "#Importing Dataset into a panda Dataframe"
   ]
  },
  {
   "cell_type": "code",
   "execution_count": null,
   "metadata": {
    "id": "hxwuGqV_ftPm"
   },
   "outputs": [],
   "source": [
    "credit_data = pd.read_csv('/content/creditcard_2023.csv')"
   ]
  },
  {
   "cell_type": "code",
   "execution_count": null,
   "metadata": {
    "colab": {
     "base_uri": "https://localhost:8080/"
    },
    "id": "SxJYD4BRhkvu",
    "outputId": "e77f5334-4526-4b90-8faa-033f7454507a"
   },
   "outputs": [
    {
     "name": "stdout",
     "output_type": "stream",
     "text": [
      "   id        V1        V2        V3        V4        V5        V6        V7  \\\n",
      "0   0 -0.260648 -0.469648  2.496266 -0.083724  0.129681  0.732898  0.519014   \n",
      "1   1  0.985100 -0.356045  0.558056 -0.429654  0.277140  0.428605  0.406466   \n",
      "2   2 -0.260272 -0.949385  1.728538 -0.457986  0.074062  1.419481  0.743511   \n",
      "3   3 -0.152152 -0.508959  1.746840 -1.090178  0.249486  1.143312  0.518269   \n",
      "4   4 -0.206820 -0.165280  1.527053 -0.448293  0.106125  0.530549  0.658849   \n",
      "\n",
      "         V8        V9  ...       V21       V22       V23       V24       V25  \\\n",
      "0 -0.130006  0.727159  ... -0.110552  0.217606 -0.134794  0.165959  0.126280   \n",
      "1 -0.133118  0.347452  ... -0.194936 -0.605761  0.079469 -0.577395  0.190090   \n",
      "2 -0.095576 -0.261297  ... -0.005020  0.702906  0.945045 -1.154666 -0.605564   \n",
      "3 -0.065130 -0.205698  ... -0.146927 -0.038212 -0.214048 -1.893131  1.003963   \n",
      "4 -0.212660  1.049921  ... -0.106984  0.729727 -0.161666  0.312561 -0.414116   \n",
      "\n",
      "        V26       V27       V28    Amount  Class  \n",
      "0 -0.434824 -0.081230 -0.151045  17982.10    0.0  \n",
      "1  0.296503 -0.248052 -0.064512   6531.37    0.0  \n",
      "2 -0.312895 -0.300258 -0.244718   2513.54    0.0  \n",
      "3 -0.515950 -0.165316  0.048424   5384.44    0.0  \n",
      "4  1.071126  0.023712  0.419117  14278.97    0.0  \n",
      "\n",
      "[5 rows x 31 columns]\n"
     ]
    }
   ],
   "source": [
    "print(credit_data.head())"
   ]
  },
  {
   "cell_type": "code",
   "execution_count": null,
   "metadata": {
    "colab": {
     "base_uri": "https://localhost:8080/"
    },
    "id": "Lyt1HqhbhttZ",
    "outputId": "0fe42323-dae5-4c98-c340-d2ec940ef1b3"
   },
   "outputs": [
    {
     "name": "stdout",
     "output_type": "stream",
     "text": [
      "          id        V1        V2        V3        V4        V5        V6  \\\n",
      "12877  12877  0.961663 -0.536787  1.207709 -0.877942 -0.097703  0.195615   \n",
      "12878  12878 -0.677072 -1.856059  0.804362 -0.401763 -0.968521  1.692068   \n",
      "12879  12879  0.132183  0.011462  1.472042  0.136653  0.653984  0.090390   \n",
      "12880  12880 -0.453630  0.193417  1.013569 -1.437120  0.036477 -0.078205   \n",
      "12881  12881  0.740343 -0.443966  0.433905 -0.122867  0.486852  0.863129   \n",
      "\n",
      "             V7        V8        V9  ...       V21       V22       V23  \\\n",
      "12877  0.226115 -0.160499  2.951008  ... -0.143477  0.190663  0.005198   \n",
      "12878  3.431992 -0.216884  1.218859  ...  0.259896  0.209325  3.758622   \n",
      "12879  0.984784 -0.265342  0.369768  ... -0.161143 -0.077792 -0.310978   \n",
      "12880  0.513079 -0.121798  2.981725  ... -0.288106 -0.502280  0.143114   \n",
      "12881  0.492863 -0.108103  1.313483  ... -0.088154  0.213428 -0.060296   \n",
      "\n",
      "            V24       V25       V26       V27       V28    Amount  Class  \n",
      "12877  0.808354  0.544026 -1.845755 -0.137943 -0.022630  20744.77    0.0  \n",
      "12878 -0.328490  1.415889  0.973526 -0.559282  0.463818   1737.11    0.0  \n",
      "12879  0.712477  0.326432 -0.077503 -0.459307 -0.616780  19596.76    0.0  \n",
      "12880  0.683605 -0.103626  1.505819  1.102804  1.216214  14008.98    0.0  \n",
      "12881 -1.184813  0.562176 -0.542551 -0.226682       NaN       NaN    NaN  \n",
      "\n",
      "[5 rows x 31 columns]\n"
     ]
    }
   ],
   "source": [
    "print(credit_data.tail())"
   ]
  },
  {
   "cell_type": "markdown",
   "metadata": {
    "id": "ejxVx7C7h6aX"
   },
   "source": [
    "# check data information"
   ]
  },
  {
   "cell_type": "code",
   "execution_count": null,
   "metadata": {
    "colab": {
     "base_uri": "https://localhost:8080/"
    },
    "id": "4tT5LYb-h7_J",
    "outputId": "6a81e917-ad2d-40b5-e356-cbc895e9c05f"
   },
   "outputs": [
    {
     "name": "stdout",
     "output_type": "stream",
     "text": [
      "<class 'pandas.core.frame.DataFrame'>\n",
      "RangeIndex: 12882 entries, 0 to 12881\n",
      "Data columns (total 31 columns):\n",
      " #   Column  Non-Null Count  Dtype  \n",
      "---  ------  --------------  -----  \n",
      " 0   id      12882 non-null  int64  \n",
      " 1   V1      12882 non-null  float64\n",
      " 2   V2      12882 non-null  float64\n",
      " 3   V3      12882 non-null  float64\n",
      " 4   V4      12882 non-null  float64\n",
      " 5   V5      12882 non-null  float64\n",
      " 6   V6      12882 non-null  float64\n",
      " 7   V7      12882 non-null  float64\n",
      " 8   V8      12882 non-null  float64\n",
      " 9   V9      12882 non-null  float64\n",
      " 10  V10     12882 non-null  float64\n",
      " 11  V11     12882 non-null  float64\n",
      " 12  V12     12882 non-null  float64\n",
      " 13  V13     12882 non-null  float64\n",
      " 14  V14     12882 non-null  float64\n",
      " 15  V15     12882 non-null  float64\n",
      " 16  V16     12882 non-null  float64\n",
      " 17  V17     12882 non-null  float64\n",
      " 18  V18     12882 non-null  float64\n",
      " 19  V19     12882 non-null  float64\n",
      " 20  V20     12882 non-null  float64\n",
      " 21  V21     12882 non-null  float64\n",
      " 22  V22     12882 non-null  float64\n",
      " 23  V23     12882 non-null  float64\n",
      " 24  V24     12882 non-null  float64\n",
      " 25  V25     12882 non-null  float64\n",
      " 26  V26     12882 non-null  float64\n",
      " 27  V27     12882 non-null  float64\n",
      " 28  V28     12881 non-null  float64\n",
      " 29  Amount  12881 non-null  float64\n",
      " 30  Class   12881 non-null  float64\n",
      "dtypes: float64(30), int64(1)\n",
      "memory usage: 3.0 MB\n",
      "None\n"
     ]
    }
   ],
   "source": [
    "print(credit_data.info())"
   ]
  },
  {
   "cell_type": "markdown",
   "metadata": {
    "id": "YmJw9lMDilCW"
   },
   "source": [
    "#Check number of missing values"
   ]
  },
  {
   "cell_type": "code",
   "execution_count": null,
   "metadata": {
    "colab": {
     "base_uri": "https://localhost:8080/"
    },
    "id": "KzfCmDNgir8g",
    "outputId": "165113ff-2dfc-4b4d-cd34-339b67cfec2b"
   },
   "outputs": [
    {
     "name": "stdout",
     "output_type": "stream",
     "text": [
      "id        0\n",
      "V1        0\n",
      "V2        0\n",
      "V3        0\n",
      "V4        0\n",
      "V5        0\n",
      "V6        0\n",
      "V7        0\n",
      "V8        0\n",
      "V9        0\n",
      "V10       0\n",
      "V11       0\n",
      "V12       0\n",
      "V13       0\n",
      "V14       0\n",
      "V15       0\n",
      "V16       0\n",
      "V17       0\n",
      "V18       0\n",
      "V19       0\n",
      "V20       0\n",
      "V21       0\n",
      "V22       0\n",
      "V23       0\n",
      "V24       0\n",
      "V25       0\n",
      "V26       0\n",
      "V27       0\n",
      "V28       1\n",
      "Amount    1\n",
      "Class     1\n",
      "dtype: int64\n"
     ]
    }
   ],
   "source": [
    "print(credit_data.isnull().sum())"
   ]
  },
  {
   "cell_type": "code",
   "execution_count": null,
   "metadata": {
    "colab": {
     "base_uri": "https://localhost:8080/"
    },
    "id": "hT4fnRfPjE6o",
    "outputId": "62d54c48-b9ea-4c66-af52-73e70cfdbd0c"
   },
   "outputs": [
    {
     "name": "stdout",
     "output_type": "stream",
     "text": [
      "Class\n",
      "0.0    12825\n",
      "1.0       56\n",
      "Name: count, dtype: int64\n"
     ]
    }
   ],
   "source": [
    "print(credit_data['Class'].value_counts())"
   ]
  },
  {
   "cell_type": "markdown",
   "metadata": {
    "id": "DBVdabfjjLW3"
   },
   "source": [
    "Imblanced Data:"
   ]
  },
  {
   "cell_type": "markdown",
   "metadata": {
    "id": "Ngue2x6Ujbbv"
   },
   "source": [
    "majority class is legal transactions"
   ]
  },
  {
   "cell_type": "markdown",
   "metadata": {
    "id": "oPwkL3FFjjJ-"
   },
   "source": [
    "#Separate Legit (Normal) transactions from Fraudulent ones."
   ]
  },
  {
   "cell_type": "code",
   "execution_count": null,
   "metadata": {
    "id": "ZyBLceg7jknc"
   },
   "outputs": [],
   "source": [
    "Normal = credit_data[credit_data.Class == 0]\n",
    "Fraud = credit_data[credit_data.Class == 1]"
   ]
  },
  {
   "cell_type": "code",
   "execution_count": null,
   "metadata": {
    "colab": {
     "base_uri": "https://localhost:8080/"
    },
    "id": "AakcwM1FjXzZ",
    "outputId": "b8a2f1b4-a901-4942-bb8e-3e8070fcd927"
   },
   "outputs": [
    {
     "name": "stdout",
     "output_type": "stream",
     "text": [
      "   id        V1        V2        V3        V4        V5        V6        V7  \\\n",
      "0   0 -0.260648 -0.469648  2.496266 -0.083724  0.129681  0.732898  0.519014   \n",
      "1   1  0.985100 -0.356045  0.558056 -0.429654  0.277140  0.428605  0.406466   \n",
      "2   2 -0.260272 -0.949385  1.728538 -0.457986  0.074062  1.419481  0.743511   \n",
      "3   3 -0.152152 -0.508959  1.746840 -1.090178  0.249486  1.143312  0.518269   \n",
      "4   4 -0.206820 -0.165280  1.527053 -0.448293  0.106125  0.530549  0.658849   \n",
      "\n",
      "         V8        V9  ...       V21       V22       V23       V24       V25  \\\n",
      "0 -0.130006  0.727159  ... -0.110552  0.217606 -0.134794  0.165959  0.126280   \n",
      "1 -0.133118  0.347452  ... -0.194936 -0.605761  0.079469 -0.577395  0.190090   \n",
      "2 -0.095576 -0.261297  ... -0.005020  0.702906  0.945045 -1.154666 -0.605564   \n",
      "3 -0.065130 -0.205698  ... -0.146927 -0.038212 -0.214048 -1.893131  1.003963   \n",
      "4 -0.212660  1.049921  ... -0.106984  0.729727 -0.161666  0.312561 -0.414116   \n",
      "\n",
      "        V26       V27       V28    Amount  Class  \n",
      "0 -0.434824 -0.081230 -0.151045  17982.10    0.0  \n",
      "1  0.296503 -0.248052 -0.064512   6531.37    0.0  \n",
      "2 -0.312895 -0.300258 -0.244718   2513.54    0.0  \n",
      "3 -0.515950 -0.165316  0.048424   5384.44    0.0  \n",
      "4  1.071126  0.023712  0.419117  14278.97    0.0  \n",
      "\n",
      "[5 rows x 31 columns]\n"
     ]
    }
   ],
   "source": [
    "print(Normal.head())"
   ]
  },
  {
   "cell_type": "code",
   "execution_count": null,
   "metadata": {
    "colab": {
     "base_uri": "https://localhost:8080/"
    },
    "id": "venkw6tIjsZ0",
    "outputId": "e9566d68-7323-458d-ec45-8ffcf95827cc"
   },
   "outputs": [
    {
     "name": "stdout",
     "output_type": "stream",
     "text": [
      "Normal shape: (12825, 31)\n",
      "Fraud shape: (56, 31)\n"
     ]
    }
   ],
   "source": [
    "print(f\"Normal shape: {Normal.shape}\")\n",
    "print(f\"Fraud shape: {Fraud.shape}\")"
   ]
  },
  {
   "cell_type": "markdown",
   "metadata": {
    "id": "e64laMq2jyuu"
   },
   "source": [
    "Statistical measures of the data"
   ]
  },
  {
   "cell_type": "code",
   "execution_count": null,
   "metadata": {
    "colab": {
     "base_uri": "https://localhost:8080/"
    },
    "id": "qXt1JJ0mjzcp",
    "outputId": "0bf5a815-2198-4153-c1ba-768889745ead"
   },
   "outputs": [
    {
     "name": "stdout",
     "output_type": "stream",
     "text": [
      "count    12825.000000\n",
      "mean     11924.265627\n",
      "std       6947.473859\n",
      "min         50.410000\n",
      "25%       5910.490000\n",
      "50%      11763.160000\n",
      "75%      17979.390000\n",
      "max      24035.200000\n",
      "Name: Amount, dtype: float64\n"
     ]
    }
   ],
   "source": [
    "print(Normal.Amount.describe())"
   ]
  },
  {
   "cell_type": "code",
   "execution_count": null,
   "metadata": {
    "colab": {
     "base_uri": "https://localhost:8080/"
    },
    "id": "0Yd8a0fvj5LA",
    "outputId": "3a540afe-e7dd-41bb-926a-9ea1174c74d2"
   },
   "outputs": [
    {
     "name": "stdout",
     "output_type": "stream",
     "text": [
      "count       56.000000\n",
      "mean     11875.231250\n",
      "std       6659.326797\n",
      "min       1415.950000\n",
      "25%       7334.070000\n",
      "50%      11231.790000\n",
      "75%      17299.342500\n",
      "max      23690.300000\n",
      "Name: Amount, dtype: float64\n"
     ]
    }
   ],
   "source": [
    "print(Fraud.Amount.describe())"
   ]
  },
  {
   "cell_type": "markdown",
   "metadata": {
    "id": "vcrGzBpZj8Cm"
   },
   "source": [
    "Undersampling technique to handle imbalanced data\n",
    "Fraudulent trainsaction number is 492"
   ]
  },
  {
   "cell_type": "code",
   "execution_count": null,
   "metadata": {
    "id": "nHELorRTj8oV"
   },
   "outputs": [],
   "source": [
    "Normal_sample = Normal.sample(n= 492)"
   ]
  },
  {
   "cell_type": "code",
   "execution_count": null,
   "metadata": {
    "colab": {
     "base_uri": "https://localhost:8080/"
    },
    "id": "oPo91uM7j--F",
    "outputId": "1601f5a4-c89f-4ba7-d4d1-544683579bf8"
   },
   "outputs": [
    {
     "name": "stdout",
     "output_type": "stream",
     "text": [
      "(492, 31)\n"
     ]
    }
   ],
   "source": [
    "print(Normal_sample.shape)"
   ]
  },
  {
   "cell_type": "markdown",
   "metadata": {
    "id": "Wl-3s-v_kEwp"
   },
   "source": [
    "Concatenating the new normal sample with fraud"
   ]
  },
  {
   "cell_type": "code",
   "execution_count": null,
   "metadata": {
    "id": "aQridDShkGzI"
   },
   "outputs": [],
   "source": [
    "new_credit_data = pd.concat([Normal_sample, Fraud], axis=0)"
   ]
  },
  {
   "cell_type": "code",
   "execution_count": null,
   "metadata": {
    "colab": {
     "base_uri": "https://localhost:8080/"
    },
    "id": "kbDfQdZrkI23",
    "outputId": "3518206b-6903-49f5-fd19-a73d63ad9064"
   },
   "outputs": [
    {
     "name": "stdout",
     "output_type": "stream",
     "text": [
      "          id        V1        V2        V3        V4        V5        V6  \\\n",
      "4365    4365  1.117327 -0.612797  0.843649 -0.879995 -0.068373  0.150140   \n",
      "8032    8032 -0.322939 -1.035729  1.834114 -0.275673  0.863655 -0.721514   \n",
      "3055    3055  0.386031 -1.087010  0.921722 -0.330759 -0.294811  0.150912   \n",
      "10994  10994  0.982497 -0.537382  1.105213 -0.921039 -0.049485  0.307843   \n",
      "3678    3678  0.026794 -0.271481  1.037511 -2.029060  0.459922  0.152317   \n",
      "\n",
      "             V7        V8        V9  ...       V21       V22       V23  \\\n",
      "4365   0.198947 -0.170130  0.938331  ... -0.194628 -0.539557  0.162353   \n",
      "8032   0.069112 -0.133685  1.477983  ... -0.008031  0.228891  0.420597   \n",
      "3055   0.403601 -0.178569  1.064087  ...  0.038897  0.133985 -0.397194   \n",
      "10994  0.224528 -0.156263  2.966958  ... -0.152287  0.137648 -0.034999   \n",
      "3678   0.799324 -0.170229  0.996798  ... -0.060693  0.569336 -0.328828   \n",
      "\n",
      "            V24       V25       V26       V27       V28    Amount  Class  \n",
      "4365  -0.019156  0.070439 -1.205004 -0.247884 -0.070532  14493.45    0.0  \n",
      "8032   0.792004 -1.234987  2.102823 -0.243184  0.373648  23884.19    0.0  \n",
      "3055   1.805289 -0.074164  2.055068 -0.370133  0.130732  23625.76    0.0  \n",
      "10994  0.145419  0.620870 -1.788317 -0.137843 -0.030919   8310.32    0.0  \n",
      "3678  -0.560876 -0.116898 -2.089084  0.054941 -0.179402  11689.25    0.0  \n",
      "\n",
      "[5 rows x 31 columns]\n"
     ]
    }
   ],
   "source": [
    "print(new_credit_data.head())"
   ]
  },
  {
   "cell_type": "markdown",
   "metadata": {
    "id": "NEOKYxh6kNX-"
   },
   "source": [
    "Feature extraction"
   ]
  },
  {
   "cell_type": "code",
   "execution_count": null,
   "metadata": {
    "id": "QY91hRrhkN0T"
   },
   "outputs": [],
   "source": [
    "X = new_credit_data.drop('Class', axis=1)\n",
    "Y = new_credit_data['Class']"
   ]
  },
  {
   "cell_type": "code",
   "execution_count": null,
   "metadata": {
    "colab": {
     "base_uri": "https://localhost:8080/",
     "height": 412
    },
    "id": "ZE9QGwyKkQ20",
    "outputId": "d95b34ce-4367-4668-8c2e-6c5366e2bb40"
   },
   "outputs": [
    {
     "data": {
      "application/vnd.google.colaboratory.intrinsic+json": {
       "type": "dataframe",
       "variable_name": "X"
      },
      "text/html": [
       "\n",
       "  <div id=\"df-d6193640-3d4c-45e1-b98a-fd1b87b2aace\" class=\"colab-df-container\">\n",
       "    <div>\n",
       "<style scoped>\n",
       "    .dataframe tbody tr th:only-of-type {\n",
       "        vertical-align: middle;\n",
       "    }\n",
       "\n",
       "    .dataframe tbody tr th {\n",
       "        vertical-align: top;\n",
       "    }\n",
       "\n",
       "    .dataframe thead th {\n",
       "        text-align: right;\n",
       "    }\n",
       "</style>\n",
       "<table border=\"1\" class=\"dataframe\">\n",
       "  <thead>\n",
       "    <tr style=\"text-align: right;\">\n",
       "      <th></th>\n",
       "      <th>id</th>\n",
       "      <th>V1</th>\n",
       "      <th>V2</th>\n",
       "      <th>V3</th>\n",
       "      <th>V4</th>\n",
       "      <th>V5</th>\n",
       "      <th>V6</th>\n",
       "      <th>V7</th>\n",
       "      <th>V8</th>\n",
       "      <th>V9</th>\n",
       "      <th>...</th>\n",
       "      <th>V20</th>\n",
       "      <th>V21</th>\n",
       "      <th>V22</th>\n",
       "      <th>V23</th>\n",
       "      <th>V24</th>\n",
       "      <th>V25</th>\n",
       "      <th>V26</th>\n",
       "      <th>V27</th>\n",
       "      <th>V28</th>\n",
       "      <th>Amount</th>\n",
       "    </tr>\n",
       "  </thead>\n",
       "  <tbody>\n",
       "    <tr>\n",
       "      <th>4365</th>\n",
       "      <td>4365</td>\n",
       "      <td>1.117327</td>\n",
       "      <td>-0.612797</td>\n",
       "      <td>0.843649</td>\n",
       "      <td>-0.879995</td>\n",
       "      <td>-0.068373</td>\n",
       "      <td>0.150140</td>\n",
       "      <td>0.198947</td>\n",
       "      <td>-0.170130</td>\n",
       "      <td>0.938331</td>\n",
       "      <td>...</td>\n",
       "      <td>-0.220811</td>\n",
       "      <td>-0.194628</td>\n",
       "      <td>-0.539557</td>\n",
       "      <td>0.162353</td>\n",
       "      <td>-0.019156</td>\n",
       "      <td>0.070439</td>\n",
       "      <td>-1.205004</td>\n",
       "      <td>-0.247884</td>\n",
       "      <td>-0.070532</td>\n",
       "      <td>14493.45</td>\n",
       "    </tr>\n",
       "    <tr>\n",
       "      <th>8032</th>\n",
       "      <td>8032</td>\n",
       "      <td>-0.322939</td>\n",
       "      <td>-1.035729</td>\n",
       "      <td>1.834114</td>\n",
       "      <td>-0.275673</td>\n",
       "      <td>0.863655</td>\n",
       "      <td>-0.721514</td>\n",
       "      <td>0.069112</td>\n",
       "      <td>-0.133685</td>\n",
       "      <td>1.477983</td>\n",
       "      <td>...</td>\n",
       "      <td>0.456953</td>\n",
       "      <td>-0.008031</td>\n",
       "      <td>0.228891</td>\n",
       "      <td>0.420597</td>\n",
       "      <td>0.792004</td>\n",
       "      <td>-1.234987</td>\n",
       "      <td>2.102823</td>\n",
       "      <td>-0.243184</td>\n",
       "      <td>0.373648</td>\n",
       "      <td>23884.19</td>\n",
       "    </tr>\n",
       "    <tr>\n",
       "      <th>3055</th>\n",
       "      <td>3055</td>\n",
       "      <td>0.386031</td>\n",
       "      <td>-1.087010</td>\n",
       "      <td>0.921722</td>\n",
       "      <td>-0.330759</td>\n",
       "      <td>-0.294811</td>\n",
       "      <td>0.150912</td>\n",
       "      <td>0.403601</td>\n",
       "      <td>-0.178569</td>\n",
       "      <td>1.064087</td>\n",
       "      <td>...</td>\n",
       "      <td>0.655856</td>\n",
       "      <td>0.038897</td>\n",
       "      <td>0.133985</td>\n",
       "      <td>-0.397194</td>\n",
       "      <td>1.805289</td>\n",
       "      <td>-0.074164</td>\n",
       "      <td>2.055068</td>\n",
       "      <td>-0.370133</td>\n",
       "      <td>0.130732</td>\n",
       "      <td>23625.76</td>\n",
       "    </tr>\n",
       "    <tr>\n",
       "      <th>10994</th>\n",
       "      <td>10994</td>\n",
       "      <td>0.982497</td>\n",
       "      <td>-0.537382</td>\n",
       "      <td>1.105213</td>\n",
       "      <td>-0.921039</td>\n",
       "      <td>-0.049485</td>\n",
       "      <td>0.307843</td>\n",
       "      <td>0.224528</td>\n",
       "      <td>-0.156263</td>\n",
       "      <td>2.966958</td>\n",
       "      <td>...</td>\n",
       "      <td>-0.304416</td>\n",
       "      <td>-0.152287</td>\n",
       "      <td>0.137648</td>\n",
       "      <td>-0.034999</td>\n",
       "      <td>0.145419</td>\n",
       "      <td>0.620870</td>\n",
       "      <td>-1.788317</td>\n",
       "      <td>-0.137843</td>\n",
       "      <td>-0.030919</td>\n",
       "      <td>8310.32</td>\n",
       "    </tr>\n",
       "    <tr>\n",
       "      <th>3678</th>\n",
       "      <td>3678</td>\n",
       "      <td>0.026794</td>\n",
       "      <td>-0.271481</td>\n",
       "      <td>1.037511</td>\n",
       "      <td>-2.029060</td>\n",
       "      <td>0.459922</td>\n",
       "      <td>0.152317</td>\n",
       "      <td>0.799324</td>\n",
       "      <td>-0.170229</td>\n",
       "      <td>0.996798</td>\n",
       "      <td>...</td>\n",
       "      <td>-0.209055</td>\n",
       "      <td>-0.060693</td>\n",
       "      <td>0.569336</td>\n",
       "      <td>-0.328828</td>\n",
       "      <td>-0.560876</td>\n",
       "      <td>-0.116898</td>\n",
       "      <td>-2.089084</td>\n",
       "      <td>0.054941</td>\n",
       "      <td>-0.179402</td>\n",
       "      <td>11689.25</td>\n",
       "    </tr>\n",
       "    <tr>\n",
       "      <th>8311</th>\n",
       "      <td>8311</td>\n",
       "      <td>-0.862371</td>\n",
       "      <td>-1.116896</td>\n",
       "      <td>0.136181</td>\n",
       "      <td>-0.606374</td>\n",
       "      <td>-0.386483</td>\n",
       "      <td>0.566835</td>\n",
       "      <td>2.023386</td>\n",
       "      <td>-0.381621</td>\n",
       "      <td>3.244990</td>\n",
       "      <td>...</td>\n",
       "      <td>-3.428877</td>\n",
       "      <td>-0.768662</td>\n",
       "      <td>0.552341</td>\n",
       "      <td>2.150497</td>\n",
       "      <td>1.136667</td>\n",
       "      <td>-0.226987</td>\n",
       "      <td>1.943785</td>\n",
       "      <td>3.336602</td>\n",
       "      <td>-0.048649</td>\n",
       "      <td>6707.77</td>\n",
       "    </tr>\n",
       "    <tr>\n",
       "      <th>1331</th>\n",
       "      <td>1331</td>\n",
       "      <td>1.039259</td>\n",
       "      <td>-0.234623</td>\n",
       "      <td>0.345240</td>\n",
       "      <td>-0.251615</td>\n",
       "      <td>0.232559</td>\n",
       "      <td>-0.509142</td>\n",
       "      <td>0.597070</td>\n",
       "      <td>-0.234424</td>\n",
       "      <td>0.341365</td>\n",
       "      <td>...</td>\n",
       "      <td>-0.216264</td>\n",
       "      <td>-0.147681</td>\n",
       "      <td>-0.255942</td>\n",
       "      <td>-0.069719</td>\n",
       "      <td>1.377179</td>\n",
       "      <td>0.830522</td>\n",
       "      <td>0.761452</td>\n",
       "      <td>-0.271706</td>\n",
       "      <td>-0.000609</td>\n",
       "      <td>3171.46</td>\n",
       "    </tr>\n",
       "    <tr>\n",
       "      <th>6159</th>\n",
       "      <td>6159</td>\n",
       "      <td>0.931568</td>\n",
       "      <td>-0.526635</td>\n",
       "      <td>0.460798</td>\n",
       "      <td>-0.555388</td>\n",
       "      <td>0.146798</td>\n",
       "      <td>0.131943</td>\n",
       "      <td>0.446812</td>\n",
       "      <td>-0.192883</td>\n",
       "      <td>1.567775</td>\n",
       "      <td>...</td>\n",
       "      <td>-0.155286</td>\n",
       "      <td>-0.171062</td>\n",
       "      <td>-0.353941</td>\n",
       "      <td>-0.215331</td>\n",
       "      <td>0.101673</td>\n",
       "      <td>0.710691</td>\n",
       "      <td>2.120833</td>\n",
       "      <td>-0.401800</td>\n",
       "      <td>-0.136066</td>\n",
       "      <td>11400.21</td>\n",
       "    </tr>\n",
       "    <tr>\n",
       "      <th>8912</th>\n",
       "      <td>8912</td>\n",
       "      <td>0.015624</td>\n",
       "      <td>-0.098924</td>\n",
       "      <td>1.640583</td>\n",
       "      <td>-0.569238</td>\n",
       "      <td>0.323702</td>\n",
       "      <td>0.250034</td>\n",
       "      <td>0.630495</td>\n",
       "      <td>-0.152360</td>\n",
       "      <td>1.119366</td>\n",
       "      <td>...</td>\n",
       "      <td>-0.151638</td>\n",
       "      <td>-0.247459</td>\n",
       "      <td>-0.640258</td>\n",
       "      <td>-0.002655</td>\n",
       "      <td>0.016928</td>\n",
       "      <td>-0.555398</td>\n",
       "      <td>0.157018</td>\n",
       "      <td>0.066992</td>\n",
       "      <td>0.167567</td>\n",
       "      <td>5811.54</td>\n",
       "    </tr>\n",
       "    <tr>\n",
       "      <th>11558</th>\n",
       "      <td>11558</td>\n",
       "      <td>1.110131</td>\n",
       "      <td>-0.590865</td>\n",
       "      <td>0.921008</td>\n",
       "      <td>-0.788998</td>\n",
       "      <td>-0.076117</td>\n",
       "      <td>0.156330</td>\n",
       "      <td>0.226226</td>\n",
       "      <td>-0.190318</td>\n",
       "      <td>0.767296</td>\n",
       "      <td>...</td>\n",
       "      <td>-0.092969</td>\n",
       "      <td>-0.141852</td>\n",
       "      <td>0.024664</td>\n",
       "      <td>-0.043747</td>\n",
       "      <td>1.153890</td>\n",
       "      <td>0.766896</td>\n",
       "      <td>-0.754900</td>\n",
       "      <td>-0.249429</td>\n",
       "      <td>-0.097991</td>\n",
       "      <td>1486.44</td>\n",
       "    </tr>\n",
       "  </tbody>\n",
       "</table>\n",
       "<p>10 rows × 30 columns</p>\n",
       "</div>\n",
       "    <div class=\"colab-df-buttons\">\n",
       "\n",
       "  <div class=\"colab-df-container\">\n",
       "    <button class=\"colab-df-convert\" onclick=\"convertToInteractive('df-d6193640-3d4c-45e1-b98a-fd1b87b2aace')\"\n",
       "            title=\"Convert this dataframe to an interactive table.\"\n",
       "            style=\"display:none;\">\n",
       "\n",
       "  <svg xmlns=\"http://www.w3.org/2000/svg\" height=\"24px\" viewBox=\"0 -960 960 960\">\n",
       "    <path d=\"M120-120v-720h720v720H120Zm60-500h600v-160H180v160Zm220 220h160v-160H400v160Zm0 220h160v-160H400v160ZM180-400h160v-160H180v160Zm440 0h160v-160H620v160ZM180-180h160v-160H180v160Zm440 0h160v-160H620v160Z\"/>\n",
       "  </svg>\n",
       "    </button>\n",
       "\n",
       "  <style>\n",
       "    .colab-df-container {\n",
       "      display:flex;\n",
       "      gap: 12px;\n",
       "    }\n",
       "\n",
       "    .colab-df-convert {\n",
       "      background-color: #E8F0FE;\n",
       "      border: none;\n",
       "      border-radius: 50%;\n",
       "      cursor: pointer;\n",
       "      display: none;\n",
       "      fill: #1967D2;\n",
       "      height: 32px;\n",
       "      padding: 0 0 0 0;\n",
       "      width: 32px;\n",
       "    }\n",
       "\n",
       "    .colab-df-convert:hover {\n",
       "      background-color: #E2EBFA;\n",
       "      box-shadow: 0px 1px 2px rgba(60, 64, 67, 0.3), 0px 1px 3px 1px rgba(60, 64, 67, 0.15);\n",
       "      fill: #174EA6;\n",
       "    }\n",
       "\n",
       "    .colab-df-buttons div {\n",
       "      margin-bottom: 4px;\n",
       "    }\n",
       "\n",
       "    [theme=dark] .colab-df-convert {\n",
       "      background-color: #3B4455;\n",
       "      fill: #D2E3FC;\n",
       "    }\n",
       "\n",
       "    [theme=dark] .colab-df-convert:hover {\n",
       "      background-color: #434B5C;\n",
       "      box-shadow: 0px 1px 3px 1px rgba(0, 0, 0, 0.15);\n",
       "      filter: drop-shadow(0px 1px 2px rgba(0, 0, 0, 0.3));\n",
       "      fill: #FFFFFF;\n",
       "    }\n",
       "  </style>\n",
       "\n",
       "    <script>\n",
       "      const buttonEl =\n",
       "        document.querySelector('#df-d6193640-3d4c-45e1-b98a-fd1b87b2aace button.colab-df-convert');\n",
       "      buttonEl.style.display =\n",
       "        google.colab.kernel.accessAllowed ? 'block' : 'none';\n",
       "\n",
       "      async function convertToInteractive(key) {\n",
       "        const element = document.querySelector('#df-d6193640-3d4c-45e1-b98a-fd1b87b2aace');\n",
       "        const dataTable =\n",
       "          await google.colab.kernel.invokeFunction('convertToInteractive',\n",
       "                                                    [key], {});\n",
       "        if (!dataTable) return;\n",
       "\n",
       "        const docLinkHtml = 'Like what you see? Visit the ' +\n",
       "          '<a target=\"_blank\" href=https://colab.research.google.com/notebooks/data_table.ipynb>data table notebook</a>'\n",
       "          + ' to learn more about interactive tables.';\n",
       "        element.innerHTML = '';\n",
       "        dataTable['output_type'] = 'display_data';\n",
       "        await google.colab.output.renderOutput(dataTable, element);\n",
       "        const docLink = document.createElement('div');\n",
       "        docLink.innerHTML = docLinkHtml;\n",
       "        element.appendChild(docLink);\n",
       "      }\n",
       "    </script>\n",
       "  </div>\n",
       "\n",
       "\n",
       "<div id=\"df-9eea8dcd-8e52-4e14-9c60-4dfe5e85092f\">\n",
       "  <button class=\"colab-df-quickchart\" onclick=\"quickchart('df-9eea8dcd-8e52-4e14-9c60-4dfe5e85092f')\"\n",
       "            title=\"Suggest charts\"\n",
       "            style=\"display:none;\">\n",
       "\n",
       "<svg xmlns=\"http://www.w3.org/2000/svg\" height=\"24px\"viewBox=\"0 0 24 24\"\n",
       "     width=\"24px\">\n",
       "    <g>\n",
       "        <path d=\"M19 3H5c-1.1 0-2 .9-2 2v14c0 1.1.9 2 2 2h14c1.1 0 2-.9 2-2V5c0-1.1-.9-2-2-2zM9 17H7v-7h2v7zm4 0h-2V7h2v10zm4 0h-2v-4h2v4z\"/>\n",
       "    </g>\n",
       "</svg>\n",
       "  </button>\n",
       "\n",
       "<style>\n",
       "  .colab-df-quickchart {\n",
       "      --bg-color: #E8F0FE;\n",
       "      --fill-color: #1967D2;\n",
       "      --hover-bg-color: #E2EBFA;\n",
       "      --hover-fill-color: #174EA6;\n",
       "      --disabled-fill-color: #AAA;\n",
       "      --disabled-bg-color: #DDD;\n",
       "  }\n",
       "\n",
       "  [theme=dark] .colab-df-quickchart {\n",
       "      --bg-color: #3B4455;\n",
       "      --fill-color: #D2E3FC;\n",
       "      --hover-bg-color: #434B5C;\n",
       "      --hover-fill-color: #FFFFFF;\n",
       "      --disabled-bg-color: #3B4455;\n",
       "      --disabled-fill-color: #666;\n",
       "  }\n",
       "\n",
       "  .colab-df-quickchart {\n",
       "    background-color: var(--bg-color);\n",
       "    border: none;\n",
       "    border-radius: 50%;\n",
       "    cursor: pointer;\n",
       "    display: none;\n",
       "    fill: var(--fill-color);\n",
       "    height: 32px;\n",
       "    padding: 0;\n",
       "    width: 32px;\n",
       "  }\n",
       "\n",
       "  .colab-df-quickchart:hover {\n",
       "    background-color: var(--hover-bg-color);\n",
       "    box-shadow: 0 1px 2px rgba(60, 64, 67, 0.3), 0 1px 3px 1px rgba(60, 64, 67, 0.15);\n",
       "    fill: var(--button-hover-fill-color);\n",
       "  }\n",
       "\n",
       "  .colab-df-quickchart-complete:disabled,\n",
       "  .colab-df-quickchart-complete:disabled:hover {\n",
       "    background-color: var(--disabled-bg-color);\n",
       "    fill: var(--disabled-fill-color);\n",
       "    box-shadow: none;\n",
       "  }\n",
       "\n",
       "  .colab-df-spinner {\n",
       "    border: 2px solid var(--fill-color);\n",
       "    border-color: transparent;\n",
       "    border-bottom-color: var(--fill-color);\n",
       "    animation:\n",
       "      spin 1s steps(1) infinite;\n",
       "  }\n",
       "\n",
       "  @keyframes spin {\n",
       "    0% {\n",
       "      border-color: transparent;\n",
       "      border-bottom-color: var(--fill-color);\n",
       "      border-left-color: var(--fill-color);\n",
       "    }\n",
       "    20% {\n",
       "      border-color: transparent;\n",
       "      border-left-color: var(--fill-color);\n",
       "      border-top-color: var(--fill-color);\n",
       "    }\n",
       "    30% {\n",
       "      border-color: transparent;\n",
       "      border-left-color: var(--fill-color);\n",
       "      border-top-color: var(--fill-color);\n",
       "      border-right-color: var(--fill-color);\n",
       "    }\n",
       "    40% {\n",
       "      border-color: transparent;\n",
       "      border-right-color: var(--fill-color);\n",
       "      border-top-color: var(--fill-color);\n",
       "    }\n",
       "    60% {\n",
       "      border-color: transparent;\n",
       "      border-right-color: var(--fill-color);\n",
       "    }\n",
       "    80% {\n",
       "      border-color: transparent;\n",
       "      border-right-color: var(--fill-color);\n",
       "      border-bottom-color: var(--fill-color);\n",
       "    }\n",
       "    90% {\n",
       "      border-color: transparent;\n",
       "      border-bottom-color: var(--fill-color);\n",
       "    }\n",
       "  }\n",
       "</style>\n",
       "\n",
       "  <script>\n",
       "    async function quickchart(key) {\n",
       "      const quickchartButtonEl =\n",
       "        document.querySelector('#' + key + ' button');\n",
       "      quickchartButtonEl.disabled = true;  // To prevent multiple clicks.\n",
       "      quickchartButtonEl.classList.add('colab-df-spinner');\n",
       "      try {\n",
       "        const charts = await google.colab.kernel.invokeFunction(\n",
       "            'suggestCharts', [key], {});\n",
       "      } catch (error) {\n",
       "        console.error('Error during call to suggestCharts:', error);\n",
       "      }\n",
       "      quickchartButtonEl.classList.remove('colab-df-spinner');\n",
       "      quickchartButtonEl.classList.add('colab-df-quickchart-complete');\n",
       "    }\n",
       "    (() => {\n",
       "      let quickchartButtonEl =\n",
       "        document.querySelector('#df-9eea8dcd-8e52-4e14-9c60-4dfe5e85092f button');\n",
       "      quickchartButtonEl.style.display =\n",
       "        google.colab.kernel.accessAllowed ? 'block' : 'none';\n",
       "    })();\n",
       "  </script>\n",
       "</div>\n",
       "\n",
       "    </div>\n",
       "  </div>\n"
      ],
      "text/plain": [
       "          id        V1        V2        V3        V4        V5        V6  \\\n",
       "4365    4365  1.117327 -0.612797  0.843649 -0.879995 -0.068373  0.150140   \n",
       "8032    8032 -0.322939 -1.035729  1.834114 -0.275673  0.863655 -0.721514   \n",
       "3055    3055  0.386031 -1.087010  0.921722 -0.330759 -0.294811  0.150912   \n",
       "10994  10994  0.982497 -0.537382  1.105213 -0.921039 -0.049485  0.307843   \n",
       "3678    3678  0.026794 -0.271481  1.037511 -2.029060  0.459922  0.152317   \n",
       "8311    8311 -0.862371 -1.116896  0.136181 -0.606374 -0.386483  0.566835   \n",
       "1331    1331  1.039259 -0.234623  0.345240 -0.251615  0.232559 -0.509142   \n",
       "6159    6159  0.931568 -0.526635  0.460798 -0.555388  0.146798  0.131943   \n",
       "8912    8912  0.015624 -0.098924  1.640583 -0.569238  0.323702  0.250034   \n",
       "11558  11558  1.110131 -0.590865  0.921008 -0.788998 -0.076117  0.156330   \n",
       "\n",
       "             V7        V8        V9  ...       V20       V21       V22  \\\n",
       "4365   0.198947 -0.170130  0.938331  ... -0.220811 -0.194628 -0.539557   \n",
       "8032   0.069112 -0.133685  1.477983  ...  0.456953 -0.008031  0.228891   \n",
       "3055   0.403601 -0.178569  1.064087  ...  0.655856  0.038897  0.133985   \n",
       "10994  0.224528 -0.156263  2.966958  ... -0.304416 -0.152287  0.137648   \n",
       "3678   0.799324 -0.170229  0.996798  ... -0.209055 -0.060693  0.569336   \n",
       "8311   2.023386 -0.381621  3.244990  ... -3.428877 -0.768662  0.552341   \n",
       "1331   0.597070 -0.234424  0.341365  ... -0.216264 -0.147681 -0.255942   \n",
       "6159   0.446812 -0.192883  1.567775  ... -0.155286 -0.171062 -0.353941   \n",
       "8912   0.630495 -0.152360  1.119366  ... -0.151638 -0.247459 -0.640258   \n",
       "11558  0.226226 -0.190318  0.767296  ... -0.092969 -0.141852  0.024664   \n",
       "\n",
       "            V23       V24       V25       V26       V27       V28    Amount  \n",
       "4365   0.162353 -0.019156  0.070439 -1.205004 -0.247884 -0.070532  14493.45  \n",
       "8032   0.420597  0.792004 -1.234987  2.102823 -0.243184  0.373648  23884.19  \n",
       "3055  -0.397194  1.805289 -0.074164  2.055068 -0.370133  0.130732  23625.76  \n",
       "10994 -0.034999  0.145419  0.620870 -1.788317 -0.137843 -0.030919   8310.32  \n",
       "3678  -0.328828 -0.560876 -0.116898 -2.089084  0.054941 -0.179402  11689.25  \n",
       "8311   2.150497  1.136667 -0.226987  1.943785  3.336602 -0.048649   6707.77  \n",
       "1331  -0.069719  1.377179  0.830522  0.761452 -0.271706 -0.000609   3171.46  \n",
       "6159  -0.215331  0.101673  0.710691  2.120833 -0.401800 -0.136066  11400.21  \n",
       "8912  -0.002655  0.016928 -0.555398  0.157018  0.066992  0.167567   5811.54  \n",
       "11558 -0.043747  1.153890  0.766896 -0.754900 -0.249429 -0.097991   1486.44  \n",
       "\n",
       "[10 rows x 30 columns]"
      ]
     },
     "execution_count": 18,
     "metadata": {},
     "output_type": "execute_result"
    }
   ],
   "source": [
    "X.head(10)"
   ]
  },
  {
   "cell_type": "code",
   "execution_count": null,
   "metadata": {
    "colab": {
     "base_uri": "https://localhost:8080/"
    },
    "id": "KgBd5WNpkXVK",
    "outputId": "442a87da-76d6-4fd9-faa9-2236e249b14e"
   },
   "outputs": [
    {
     "name": "stdout",
     "output_type": "stream",
     "text": [
      "4365     0.0\n",
      "8032     0.0\n",
      "3055     0.0\n",
      "10994    0.0\n",
      "3678     0.0\n",
      "        ... \n",
      "11880    1.0\n",
      "12070    1.0\n",
      "12108    1.0\n",
      "12261    1.0\n",
      "12369    1.0\n",
      "Name: Class, Length: 548, dtype: float64\n"
     ]
    }
   ],
   "source": [
    "print(Y)"
   ]
  },
  {
   "cell_type": "markdown",
   "metadata": {
    "id": "YF1I_3uYkaHQ"
   },
   "source": [
    "Train,test split"
   ]
  },
  {
   "cell_type": "code",
   "execution_count": null,
   "metadata": {
    "id": "e3I7-biJkfJ2"
   },
   "outputs": [],
   "source": [
    "x_train, x_test, y_train, y_test = train_test_split(X, Y, test_size=0.2, random_state=2, stratify=Y)"
   ]
  },
  {
   "cell_type": "code",
   "execution_count": null,
   "metadata": {
    "colab": {
     "base_uri": "https://localhost:8080/"
    },
    "id": "INBhGIhAkjBz",
    "outputId": "d0639dfc-970b-4c88-b762-767f45225ff4"
   },
   "outputs": [
    {
     "name": "stdout",
     "output_type": "stream",
     "text": [
      "X shape: (548, 30), x_train: (438, 30), x_test: (110, 30)\n",
      "X shape: (548,), y_train: (438,), y_test: (110,)\n"
     ]
    }
   ],
   "source": [
    "print(F\"X shape: {X.shape}, x_train: {x_train.shape}, x_test: {x_test.shape}\")\n",
    "print(F\"X shape: {Y.shape}, y_train: {y_train.shape}, y_test: {y_test.shape}\")"
   ]
  },
  {
   "cell_type": "code",
   "execution_count": null,
   "metadata": {
    "id": "6JoKXUookmcx"
   },
   "outputs": [],
   "source": [
    "std_scaler = StandardScaler()"
   ]
  },
  {
   "cell_type": "markdown",
   "metadata": {
    "id": "kdEIbczFkppN"
   },
   "source": [
    "# convert x_tain, x_test into a numpy array"
   ]
  },
  {
   "cell_type": "code",
   "execution_count": null,
   "metadata": {
    "id": "_RMzjH_lkqG5"
   },
   "outputs": [],
   "source": [
    "X_train = np.array(x_train)\n",
    "X_test = np.array(x_test)"
   ]
  },
  {
   "cell_type": "code",
   "execution_count": null,
   "metadata": {
    "id": "NI9VOBTuku0J"
   },
   "outputs": [],
   "source": [
    "x_train_scaled = std_scaler.fit_transform(X_train)\n",
    "x_test_scaled = std_scaler.transform(X_test)"
   ]
  },
  {
   "cell_type": "markdown",
   "metadata": {
    "id": "pOMhDL5XkxJb"
   },
   "source": [
    "Model training"
   ]
  },
  {
   "cell_type": "code",
   "execution_count": null,
   "metadata": {
    "id": "1YgZ6-z6kxoC"
   },
   "outputs": [],
   "source": [
    "model = LogisticRegression()"
   ]
  },
  {
   "cell_type": "code",
   "execution_count": null,
   "metadata": {
    "colab": {
     "base_uri": "https://localhost:8080/",
     "height": 52
    },
    "id": "_UaPfeOPk3NY",
    "outputId": "2993b757-74cd-44e4-c5e0-51e40d353a0d"
   },
   "outputs": [
    {
     "data": {
      "text/html": [
       "<style>#sk-container-id-2 {color: black;background-color: white;}#sk-container-id-2 pre{padding: 0;}#sk-container-id-2 div.sk-toggleable {background-color: white;}#sk-container-id-2 label.sk-toggleable__label {cursor: pointer;display: block;width: 100%;margin-bottom: 0;padding: 0.3em;box-sizing: border-box;text-align: center;}#sk-container-id-2 label.sk-toggleable__label-arrow:before {content: \"▸\";float: left;margin-right: 0.25em;color: #696969;}#sk-container-id-2 label.sk-toggleable__label-arrow:hover:before {color: black;}#sk-container-id-2 div.sk-estimator:hover label.sk-toggleable__label-arrow:before {color: black;}#sk-container-id-2 div.sk-toggleable__content {max-height: 0;max-width: 0;overflow: hidden;text-align: left;background-color: #f0f8ff;}#sk-container-id-2 div.sk-toggleable__content pre {margin: 0.2em;color: black;border-radius: 0.25em;background-color: #f0f8ff;}#sk-container-id-2 input.sk-toggleable__control:checked~div.sk-toggleable__content {max-height: 200px;max-width: 100%;overflow: auto;}#sk-container-id-2 input.sk-toggleable__control:checked~label.sk-toggleable__label-arrow:before {content: \"▾\";}#sk-container-id-2 div.sk-estimator input.sk-toggleable__control:checked~label.sk-toggleable__label {background-color: #d4ebff;}#sk-container-id-2 div.sk-label input.sk-toggleable__control:checked~label.sk-toggleable__label {background-color: #d4ebff;}#sk-container-id-2 input.sk-hidden--visually {border: 0;clip: rect(1px 1px 1px 1px);clip: rect(1px, 1px, 1px, 1px);height: 1px;margin: -1px;overflow: hidden;padding: 0;position: absolute;width: 1px;}#sk-container-id-2 div.sk-estimator {font-family: monospace;background-color: #f0f8ff;border: 1px dotted black;border-radius: 0.25em;box-sizing: border-box;margin-bottom: 0.5em;}#sk-container-id-2 div.sk-estimator:hover {background-color: #d4ebff;}#sk-container-id-2 div.sk-parallel-item::after {content: \"\";width: 100%;border-bottom: 1px solid gray;flex-grow: 1;}#sk-container-id-2 div.sk-label:hover label.sk-toggleable__label {background-color: #d4ebff;}#sk-container-id-2 div.sk-serial::before {content: \"\";position: absolute;border-left: 1px solid gray;box-sizing: border-box;top: 0;bottom: 0;left: 50%;z-index: 0;}#sk-container-id-2 div.sk-serial {display: flex;flex-direction: column;align-items: center;background-color: white;padding-right: 0.2em;padding-left: 0.2em;position: relative;}#sk-container-id-2 div.sk-item {position: relative;z-index: 1;}#sk-container-id-2 div.sk-parallel {display: flex;align-items: stretch;justify-content: center;background-color: white;position: relative;}#sk-container-id-2 div.sk-item::before, #sk-container-id-2 div.sk-parallel-item::before {content: \"\";position: absolute;border-left: 1px solid gray;box-sizing: border-box;top: 0;bottom: 0;left: 50%;z-index: -1;}#sk-container-id-2 div.sk-parallel-item {display: flex;flex-direction: column;z-index: 1;position: relative;background-color: white;}#sk-container-id-2 div.sk-parallel-item:first-child::after {align-self: flex-end;width: 50%;}#sk-container-id-2 div.sk-parallel-item:last-child::after {align-self: flex-start;width: 50%;}#sk-container-id-2 div.sk-parallel-item:only-child::after {width: 0;}#sk-container-id-2 div.sk-dashed-wrapped {border: 1px dashed gray;margin: 0 0.4em 0.5em 0.4em;box-sizing: border-box;padding-bottom: 0.4em;background-color: white;}#sk-container-id-2 div.sk-label label {font-family: monospace;font-weight: bold;display: inline-block;line-height: 1.2em;}#sk-container-id-2 div.sk-label-container {text-align: center;}#sk-container-id-2 div.sk-container {/* jupyter's `normalize.less` sets `[hidden] { display: none; }` but bootstrap.min.css set `[hidden] { display: none !important; }` so we also need the `!important` here to be able to override the default hidden behavior on the sphinx rendered scikit-learn.org. See: https://github.com/scikit-learn/scikit-learn/issues/21755 */display: inline-block !important;position: relative;}#sk-container-id-2 div.sk-text-repr-fallback {display: none;}</style><div id=\"sk-container-id-2\" class=\"sk-top-container\"><div class=\"sk-text-repr-fallback\"><pre>LogisticRegression()</pre><b>In a Jupyter environment, please rerun this cell to show the HTML representation or trust the notebook. <br />On GitHub, the HTML representation is unable to render, please try loading this page with nbviewer.org.</b></div><div class=\"sk-container\" hidden><div class=\"sk-item\"><div class=\"sk-estimator sk-toggleable\"><input class=\"sk-toggleable__control sk-hidden--visually\" id=\"sk-estimator-id-2\" type=\"checkbox\" checked><label for=\"sk-estimator-id-2\" class=\"sk-toggleable__label sk-toggleable__label-arrow\">LogisticRegression</label><div class=\"sk-toggleable__content\"><pre>LogisticRegression()</pre></div></div></div></div></div>"
      ],
      "text/plain": [
       "LogisticRegression()"
      ]
     },
     "execution_count": 27,
     "metadata": {},
     "output_type": "execute_result"
    }
   ],
   "source": [
    "model.fit(x_train_scaled, y_train)"
   ]
  },
  {
   "cell_type": "markdown",
   "metadata": {
    "id": "33W7cjFKlLRt"
   },
   "source": [
    "Model Evaluation"
   ]
  },
  {
   "cell_type": "markdown",
   "metadata": {
    "id": "C43f_h0flNWP"
   },
   "source": [
    "Accuracy metric"
   ]
  },
  {
   "cell_type": "code",
   "execution_count": null,
   "metadata": {
    "id": "Ejxgswe5lN0N"
   },
   "outputs": [],
   "source": [
    "x_train_pred = model.predict(x_train_scaled)"
   ]
  },
  {
   "cell_type": "code",
   "execution_count": null,
   "metadata": {
    "id": "B4rKomMMlSUJ"
   },
   "outputs": [],
   "source": [
    "training_data_accuracy = accuracy_score(y_train, x_train_pred)"
   ]
  },
  {
   "cell_type": "code",
   "execution_count": null,
   "metadata": {
    "colab": {
     "base_uri": "https://localhost:8080/"
    },
    "id": "7rkIJfj3lVPr",
    "outputId": "9b412bfe-3404-4ace-e38f-3a570f040f11"
   },
   "outputs": [
    {
     "name": "stdout",
     "output_type": "stream",
     "text": [
      "Training data accuracy = 99.09%\n"
     ]
    }
   ],
   "source": [
    "print(f\"Training data accuracy = {training_data_accuracy*100:.2f}%\")"
   ]
  },
  {
   "cell_type": "code",
   "execution_count": null,
   "metadata": {
    "id": "dvT8sDzklbe4"
   },
   "outputs": [],
   "source": [
    "x_test_pred = model.predict(x_test_scaled)"
   ]
  },
  {
   "cell_type": "code",
   "execution_count": null,
   "metadata": {
    "id": "bF8odSS8ldsj"
   },
   "outputs": [],
   "source": [
    "testing_data_accuracy = accuracy_score(y_test, x_test_pred)"
   ]
  },
  {
   "cell_type": "code",
   "execution_count": null,
   "metadata": {
    "colab": {
     "base_uri": "https://localhost:8080/"
    },
    "id": "xCPxiVA3lfxG",
    "outputId": "0a84d496-c0e9-4fa5-ae4c-0cae0ea59606"
   },
   "outputs": [
    {
     "name": "stdout",
     "output_type": "stream",
     "text": [
      "Testing data accuracy = 99.09%\n"
     ]
    }
   ],
   "source": [
    "print(f\"Testing data accuracy = {testing_data_accuracy*100:.2f}%\")"
   ]
  },
  {
   "cell_type": "code",
   "execution_count": null,
   "metadata": {
    "id": "dAlJKBYklkyu"
   },
   "outputs": [],
   "source": [
    "training_data_auc = roc_auc_score(y_train, model.predict_proba(x_train_scaled)[:, 1])"
   ]
  },
  {
   "cell_type": "code",
   "execution_count": null,
   "metadata": {
    "colab": {
     "base_uri": "https://localhost:8080/"
    },
    "id": "A-rUM8ealnOJ",
    "outputId": "b20ec66c-75fd-4b8a-cef5-d851b7f2e794"
   },
   "outputs": [
    {
     "name": "stdout",
     "output_type": "stream",
     "text": [
      "Training data AUC = 100.00%\n"
     ]
    }
   ],
   "source": [
    "print(f\"Training data AUC = {training_data_auc*100:.2f}%\")"
   ]
  },
  {
   "cell_type": "code",
   "execution_count": null,
   "metadata": {
    "id": "KiHAB7Vqlp7V"
   },
   "outputs": [],
   "source": [
    "testing_data_auc = roc_auc_score(y_test, model.predict_proba(x_test_scaled)[:, 1])"
   ]
  },
  {
   "cell_type": "code",
   "execution_count": null,
   "metadata": {
    "colab": {
     "base_uri": "https://localhost:8080/"
    },
    "id": "Mabf7hnils8k",
    "outputId": "ac93e188-f813-4595-de5d-5a4797b56506"
   },
   "outputs": [
    {
     "name": "stdout",
     "output_type": "stream",
     "text": [
      "Testing data AUC = 99.72%\n"
     ]
    }
   ],
   "source": [
    "print(f\"Testing data AUC = {testing_data_auc*100:.2f}%\")"
   ]
  }
 ],
 "metadata": {
  "colab": {
   "provenance": []
  },
  "kernelspec": {
   "display_name": "Python 3 (ipykernel)",
   "language": "python",
   "name": "python3"
  },
  "language_info": {
   "codemirror_mode": {
    "name": "ipython",
    "version": 3
   },
   "file_extension": ".py",
   "mimetype": "text/x-python",
   "name": "python",
   "nbconvert_exporter": "python",
   "pygments_lexer": "ipython3",
   "version": "3.11.5"
  }
 },
 "nbformat": 4,
 "nbformat_minor": 1
}
